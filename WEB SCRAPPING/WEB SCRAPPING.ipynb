{
 "cells": [
  {
   "attachments": {},
   "cell_type": "markdown",
   "id": "d34a9d24",
   "metadata": {},
   "source": [
    "# TESTE WEB SCRAPPING"
   ]
  },
  {
   "attachments": {},
   "cell_type": "markdown",
   "id": "6c0612a5",
   "metadata": {},
   "source": [
    "## TABELA - CAMPEONATO BRASILEIRO"
   ]
  },
  {
   "cell_type": "code",
   "execution_count": null,
   "id": "a420a2e1",
   "metadata": {},
   "outputs": [],
   "source": [
    "import pandas as pd\n",
    "import requests\n",
    "import bs4 as bs\n",
    "\n",
    "header = {'User-Agent': 'Mozilla/5.0 (windows NT 10.0; win64; x64) Applewebkit/537.36 \\ (KHTML, like Gecko) chrome/103.0.0.0 Safari/s37.36'}\n",
    "url = r'https://www.espn.com.br/futebol/classificacao/_/liga/bra.1'\n",
    "request = requests.get(url, headers=header)\n",
    "\n",
    "df = pd.read_html(request.text)"
   ]
  },
  {
   "cell_type": "code",
   "execution_count": null,
   "id": "dbe9d061",
   "metadata": {},
   "outputs": [],
   "source": [
    "#Como os nomes dos clubes a princípio foram separados em duas sequências de índices.\n",
    "#Armazenei as duas partes em uma variável e juntei em uma só posteriormente.\n",
    "Times = pd.DataFrame(df[0])\n",
    "Pontos = pd.DataFrame(df[1])\n",
    "\n",
    "Times.loc[Times['2022'] == '1PALPalmeiras' , '2022'] = 'Palmeiras'\n",
    "Times.loc[Times['2022'] == '2INTInternacional' , '2022'] = 'Internacional'\n",
    "Times.loc[Times['2022'] == '3FLUFluminense' , '2022'] = 'Fluminense'\n",
    "Times.loc[Times['2022'] == '4CORCorinthians' , '2022'] = 'Corinthians'\n",
    "Times.loc[Times['2022'] == '5FLAFlamengo' , '2022'] = 'Flamengo'\n",
    "Times.loc[Times['2022'] == '6CAPAthletico-PR' , '2022'] = 'Atlético-PR'\n",
    "Times.loc[Times['2022'] == '7CAMAtlético-MG' , '2022'] = 'Atlético-MG'\n",
    "Times.loc[Times['2022'] == '8FORFortaleza' , '2022'] = 'Fortaleza'\n",
    "Times.loc[Times['2022'] == '10AMGAmérica-MG' , '2022'] = 'América-MG'\n",
    "Times.loc[Times['2022'] == '11BOTBotafogo' , '2022'] = 'Botafogo'\n",
    "Times.loc[Times['2022'] == '9SAOSão Paulo' , '2022'] = 'São Paulo'\n",
    "Times.loc[Times['2022'] == '13GOIGoiás' , '2022'] = 'Goiás'\n",
    "Times.loc[Times['2022'] == '14BRARed Bull Bragantino' , '2022'] = 'Red Bull Bragantino'\n",
    "Times.loc[Times['2022'] == '15CFCCoritiba' , '2022'] = 'Coritiba'\n",
    "Times.loc[Times['2022'] == '16CUICuiabá' , '2022'] = 'Cuiabá'\n",
    "Times.loc[Times['2022'] == '17CEACeará' , '2022'] = 'Cerá'\n",
    "Times.loc[Times['2022'] == '18AGOAtlético-GO' , '2022'] = 'Atlético-GO'\n",
    "Times.loc[Times['2022'] == '19AVAAvaí' , '2022'] = 'Avaí'\n",
    "Times.loc[Times['2022'] == '20JUVJuventude' , '2022'] = 'Juventude'\n",
    "Times.loc[Times['2022'] == '12SANSantos' , '2022'] = 'Santos'\n",
    "\n",
    "\n",
    "tabela = Times.merge(Pontos, how='inner', left_index=True, right_index=True)\n",
    "tabela.rename(columns={'2022':'Times'})"
   ]
  },
  {
   "attachments": {},
   "cell_type": "markdown",
   "id": "8e0735df",
   "metadata": {},
   "source": [
    "# PESQUISA DE PREÇOS"
   ]
  },
  {
   "cell_type": "code",
   "execution_count": null,
   "id": "f2089a98",
   "metadata": {},
   "outputs": [],
   "source": [
    "import requests\n",
    "from bs4 import BeautifulSoup\n",
    "\n",
    "url = \"https://www.americanas.com.br/busca/notebook?limit=24&offset={}\"\n",
    "\n",
    "headers = {\n",
    "    \"User-Agent\": \"Mozilla/5.0 (Windows NT 10.0; Win64; x64) AppleWebKit/537.36 (KHTML, like Gecko) Chrome/86.0.4240.198 Safari/537.36\"\n",
    "}\n",
    "\n",
    "notebooks = []\n",
    "pages = range(0, 8, 1)\n",
    "\n",
    "for page in pages:\n",
    "    page_url = url.format(page)\n",
    "    response = requests.get(page_url, headers=headers)\n",
    "    soup = BeautifulSoup(response.content, \"html.parser\")\n",
    "    products = soup.find_all(\"h3\", class_=\"product-name__Name-sc-1shovj0-0 gUjFDF\")\n",
    "\n",
    "    for product in products:\n",
    "        notebook_name = product.get_text().strip().replace(\"Notebook \", \"\")\n",
    "        notebooks.append(notebook_name)\n",
    "\n",
    "    print(f\"Page {page_url} done.\")\n",
    "    print(notebook_name)"
   ]
  }
 ],
 "metadata": {
  "kernelspec": {
   "display_name": "Python 3",
   "language": "python",
   "name": "python3"
  },
  "language_info": {
   "codemirror_mode": {
    "name": "ipython",
    "version": 3
   },
   "file_extension": ".py",
   "mimetype": "text/x-python",
   "name": "python",
   "nbconvert_exporter": "python",
   "pygments_lexer": "ipython3",
   "version": "3.8.8"
  }
 },
 "nbformat": 4,
 "nbformat_minor": 5
}
