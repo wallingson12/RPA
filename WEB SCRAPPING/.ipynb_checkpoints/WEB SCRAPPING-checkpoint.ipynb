{
 "cells": [
  {
   "cell_type": "markdown",
   "id": "d34a9d24",
   "metadata": {},
   "source": [
    "# TESTE WEB SCRAPPING"
   ]
  },
  {
   "cell_type": "markdown",
   "id": "6c0612a5",
   "metadata": {},
   "source": [
    "## TABELA - CAMPEONATO BRASILEIRO"
   ]
  },
  {
   "cell_type": "code",
   "execution_count": null,
   "id": "a420a2e1",
   "metadata": {},
   "outputs": [],
   "source": [
    "import pandas as pd\n",
    "import requests\n",
    "import bs4 as bs\n",
    "\n",
    "header = {'User-Agent': 'Mozilla/5.0 (windows NT 10.0; win64; x64) Applewebkit/537.36 \\ (KHTML, like Gecko) chrome/103.0.0.0 Safari/s37.36'}\n",
    "url = r'https://www.espn.com.br/futebol/classificacao/_/liga/bra.1'\n",
    "request = requests.get(url, headers=header)\n",
    "\n",
    "df = pd.read_html(request.text)"
   ]
  },
  {
   "cell_type": "code",
   "execution_count": null,
   "id": "dbe9d061",
   "metadata": {},
   "outputs": [],
   "source": [
    "#Como os nomes dos clubes a princípio foram separados em duas sequências de índices.\n",
    "#Armazenei as duas partes em uma variável e juntei em uma só posteriormente.\n",
    "Times = pd.DataFrame(df[0])\n",
    "Pontos = pd.DataFrame(df[1])\n",
    "\n",
    "Times.loc[Times['2022'] == '1PALPalmeiras' , '2022'] = 'Palmeiras'\n",
    "Times.loc[Times['2022'] == '2INTInternacional' , '2022'] = 'Internacional'\n",
    "Times.loc[Times['2022'] == '3FLUFluminense' , '2022'] = 'Fluminense'\n",
    "Times.loc[Times['2022'] == '4CORCorinthians' , '2022'] = 'Corinthians'\n",
    "Times.loc[Times['2022'] == '5FLAFlamengo' , '2022'] = 'Flamengo'\n",
    "Times.loc[Times['2022'] == '6CAPAthletico-PR' , '2022'] = 'Atlético-PR'\n",
    "Times.loc[Times['2022'] == '7CAMAtlético-MG' , '2022'] = 'Atlético-MG'\n",
    "Times.loc[Times['2022'] == '8FORFortaleza' , '2022'] = 'Fortaleza'\n",
    "Times.loc[Times['2022'] == '10AMGAmérica-MG' , '2022'] = 'América-MG'\n",
    "Times.loc[Times['2022'] == '11BOTBotafogo' , '2022'] = 'Botafogo'\n",
    "Times.loc[Times['2022'] == '9SAOSão Paulo' , '2022'] = 'São Paulo'\n",
    "Times.loc[Times['2022'] == '13GOIGoiás' , '2022'] = 'Goiás'\n",
    "Times.loc[Times['2022'] == '14BRARed Bull Bragantino' , '2022'] = 'Red Bull Bragantino'\n",
    "Times.loc[Times['2022'] == '15CFCCoritiba' , '2022'] = 'Coritiba'\n",
    "Times.loc[Times['2022'] == '16CUICuiabá' , '2022'] = 'Cuiabá'\n",
    "Times.loc[Times['2022'] == '17CEACeará' , '2022'] = 'Cerá'\n",
    "Times.loc[Times['2022'] == '18AGOAtlético-GO' , '2022'] = 'Atlético-GO'\n",
    "Times.loc[Times['2022'] == '19AVAAvaí' , '2022'] = 'Avaí'\n",
    "Times.loc[Times['2022'] == '20JUVJuventude' , '2022'] = 'Juventude'\n",
    "Times.loc[Times['2022'] == '12SANSantos' , '2022'] = 'Santos'\n",
    "\n",
    "\n",
    "tabela = Times.merge(Pontos, how='inner', left_index=True, right_index=True)\n",
    "tabela.rename(columns={'2022':'Times'})"
   ]
  },
  {
   "cell_type": "markdown",
   "id": "8e0735df",
   "metadata": {},
   "source": [
    "# PESQUISA DE PREÇOS"
   ]
  },
  {
   "cell_type": "code",
   "execution_count": 42,
   "id": "f2089a98",
   "metadata": {},
   "outputs": [
    {
     "name": "stdout",
     "output_type": "stream",
     "text": [
      "Page https://www.americanas.com.br/busca/notebook?limit=24&offset=0 done.\n",
      "Asus Intel Core i3-1005G1 4GB 256GB SSD Linux 15,6\" Cinza X515JA-BR2750\n",
      "Page https://www.americanas.com.br/busca/notebook?limit=24&offset=1 done.\n",
      "Positivo Motion Q464C Intel Atom Quad Core 4GB 64GB eMMC 14,1'' W10 - Cinza\n",
      "Page https://www.americanas.com.br/busca/notebook?limit=24&offset=2 done.\n",
      "Positivo Motion Grey 14 HD atom Z8350 128GB eMMC 4GB Win 10H Q4128C-S\n",
      "Page https://www.americanas.com.br/busca/notebook?limit=24&offset=3 done.\n",
      "Lenovo Ideapad 3i I3-1115G4 4GB 256GB SSD W11 15.6\" Prata\n",
      "Page https://www.americanas.com.br/busca/notebook?limit=24&offset=4 done.\n",
      "Positivo Motion Intel Atom-Z8350 4GB 64GB W10 14,1'' Led Webcam HD + Office 365 Personal - Vermelho\n",
      "Page https://www.americanas.com.br/busca/notebook?limit=24&offset=5 done.\n",
      "Lenovo Ultrafino Ideapad 3 AMD Ryzen 7-5700u 8GB 256GB SSD W11 15,6\" - Prata\n",
      "Page https://www.americanas.com.br/busca/notebook?limit=24&offset=6 done.\n",
      "Acer Aspire 3 Intel Core I3-1115G4 8GB (UHD Intel) 512GB SSD Windows 11 Tela 15,6” Prata A315-58-372M\n",
      "Page https://www.americanas.com.br/busca/notebook?limit=24&offset=7 done.\n",
      "Dell Inspiron 15 3000 I15-A0500-AM10P AMD R5 8GB 256GB SSD Tela 15.6\" Windows 11 - Preto\n"
     ]
    }
   ],
   "source": [
    "import requests\n",
    "from bs4 import BeautifulSoup\n",
    "\n",
    "url = \"https://www.americanas.com.br/busca/notebook?limit=24&offset={}\"\n",
    "\n",
    "headers = {\n",
    "    \"User-Agent\": \"Mozilla/5.0 (Windows NT 10.0; Win64; x64) AppleWebKit/537.36 (KHTML, like Gecko) Chrome/86.0.4240.198 Safari/537.36\"\n",
    "}\n",
    "\n",
    "notebooks = []\n",
    "pages = range(0, 8, 1)\n",
    "\n",
    "for page in pages:\n",
    "    page_url = url.format(page)\n",
    "    response = requests.get(page_url, headers=headers)\n",
    "    soup = BeautifulSoup(response.content, \"html.parser\")\n",
    "    products = soup.find_all(\"h3\", class_=\"product-name__Name-sc-1shovj0-0 gUjFDF\")\n",
    "\n",
    "    for product in products:\n",
    "        notebook_name = product.get_text().strip().replace(\"Notebook \", \"\")\n",
    "        notebooks.append(notebook_name)\n",
    "\n",
    "    print(f\"Page {page_url} done.\")\n",
    "    print(notebook_name)"
   ]
  },
  {
   "cell_type": "markdown",
   "id": "abb431dd",
   "metadata": {},
   "source": [
    "# CND "
   ]
  },
  {
   "cell_type": "code",
   "execution_count": 21,
   "id": "79d6b681",
   "metadata": {},
   "outputs": [
    {
     "name": "stderr",
     "output_type": "stream",
     "text": [
      "<ipython-input-21-da746d85da2d>:20: DeprecationWarning: find_element_by_* commands are deprecated. Please use find_element() instead\n",
      "  nova_consulta = navegador.find_element_by_xpath('//*[@id=\"rfb-main-container\"]/div/div/a/input')\n",
      "<ipython-input-21-da746d85da2d>:24: DeprecationWarning: find_element_by_* commands are deprecated. Please use find_element() instead\n",
      "  cnpj = navegador.find_element_by_xpath('//*[@id=\"Ni\"]')\n"
     ]
    }
   ],
   "source": [
    "from selenium import webdriver \n",
    "from selenium.webdriver.common.by import By\n",
    "from selenium.webdriver.support.ui import WebDriverWait\n",
    "from selenium.webdriver.support import expected_conditions as EC\n",
    "import pyautogui\n",
    "import pandas as pd\n",
    "\n",
    "#carregando o arquivo \n",
    "df = pd.read_excel(\"Empresas_CNPJ - CNDs.xlsx\",dtype=str)\n",
    "\n",
    "#Definindo variáveis\n",
    "CNPJ = df['CNPJ']\n",
    "\n",
    "#LOGANDO\n",
    "navegador = webdriver.Chrome()\n",
    "navegador.get(\"https://solucoes.receita.fazenda.gov.br/Servicos/certidaointernet/pj/Consultar/ErroGeral?msg=CNPJ%20n%C3%A3o%20informado.\")\n",
    "pyautogui.sleep(1)\n",
    "\n",
    "nova_consulta = WebDriverWait(navegador, 10).until(EC.presence_of_element_located((By.XPATH,'//*[@id=\"rfb-main-container\"]/div/div/a/input')))\n",
    "nova_consulta = navegador.find_element_by_xpath('//*[@id=\"rfb-main-container\"]/div/div/a/input')\n",
    "nova_consulta.click()\n",
    "\n",
    "cnpj = WebDriverWait(navegador, 10).until(EC.presence_of_element_located((By.XPATH,'//*[@id=\"Ni\"]')))\n",
    "cnpj = navegador.find_element_by_xpath('//*[@id=\"Ni\"]')\n",
    "pyautogui.sleep(2)\n",
    "cnpj.find_element_by_xpath('//*[@id=\"Ni\"]').send_keys(CNPJ)\n",
    "\n",
    "data_inicio = WebDriverWait(navegador, 10).until(EC.presence_of_element_located((By.XPATH,'//*[@id=\"PeriodoInicio\"]')))\n",
    "pyautogui.sleep(2)\n",
    "data_inicio.find_element_by_xpath('//*[@id=\"PeriodoInicio\"]').send_keys('01012020')\n",
    "\n",
    "data_final = WebDriverWait(navegador, 10).until(EC.presence_of_element_located((By.XPATH,'//*[@id=\"PeriodoFim\"]')))\n",
    "pyautogui.sleep(1)\n",
    "data_inicio.find_element_by_xpath('//*[@id=\"PeriodoFim\"]').send_keys('31012023')\n",
    "\n",
    "consulta = WebDriverWait(navegador, 10).until(EC.presence_of_element_located((By.XPATH,'/html/body/div[2]/div[2]/div[1]/div/div/div/div/form/div[2]/input[1]')))\n",
    "pyautogui.sleep(1)\n",
    "consulta.find_element_by_xpath('/html/body/div[2]/div[2]/div[1]/div/div/div/div/form/div[2]/input[1]').click()\n"
   ]
  },
  {
   "cell_type": "code",
   "execution_count": null,
   "id": "9acdd6e4",
   "metadata": {},
   "outputs": [],
   "source": []
  }
 ],
 "metadata": {
  "kernelspec": {
   "display_name": "Python 3",
   "language": "python",
   "name": "python3"
  },
  "language_info": {
   "codemirror_mode": {
    "name": "ipython",
    "version": 3
   },
   "file_extension": ".py",
   "mimetype": "text/x-python",
   "name": "python",
   "nbconvert_exporter": "python",
   "pygments_lexer": "ipython3",
   "version": "3.8.8"
  }
 },
 "nbformat": 4,
 "nbformat_minor": 5
}
