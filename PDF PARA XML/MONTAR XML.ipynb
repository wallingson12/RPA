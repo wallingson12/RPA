{
 "cells": [
  {
   "attachments": {},
   "cell_type": "markdown",
   "id": "518dbab2",
   "metadata": {},
   "source": [
    "# MONTAR XML"
   ]
  },
  {
   "cell_type": "code",
   "execution_count": null,
   "id": "b9d95730",
   "metadata": {},
   "outputs": [],
   "source": [
    "import os\n",
    "import pdfminer.high_level as pdf\n",
    "import xml.etree.ElementTree as ET\n",
    "\n",
    "# Percorre todos os arquivos no diretório atual\n",
    "for filename in os.listdir():\n",
    "    # Se o arquivo for PDF\n",
    "    if filename.endswith('.pdf'):\n",
    "        # Extrai o texto do PDF\n",
    "        text = pdf.extract_text(filename)\n",
    "\n",
    "        # Cria a estrutura XML\n",
    "        root = ET.Element('nota_fiscal')\n",
    "\n",
    "        # Adiciona os elementos à estrutura\n",
    "        lines = text.split('\\n')\n",
    "        for i in range(len(lines)):\n",
    "\n",
    "            if lines[i].startswith('TOMADOR DE SERVIÇOS'):\n",
    "                ET.SubElement(root, 'nome_tomador').text = ' '.join(lines[i+2].split()[2:5])\n",
    "                print(f\"{lines[i+2].split()[2:5]}\")\n",
    "\n",
    "            if lines[i].startswith('TOMADOR DE SERVIÇOS'):\n",
    "                ET.SubElement(root, 'cnpj_tomador').text = ' '.join(lines[i+3].split()[1])\n",
    "                print(f\"{lines[i+3].split()[1]}\")\n",
    "\n",
    "            elif lines[i].startswith('Número da Nota'):\n",
    "                ET.SubElement(root, 'numero').text = lines[i+1].split()[-1]\n",
    "                print(f\"{lines[i+1].split()[-1]}\")\n",
    "\n",
    "            elif lines[i].startswith('Data e Hora de Emissão'):\n",
    "                ET.SubElement(root, 'data_emissao').text = lines[i+1].split()[0]\n",
    "                print(f\"{lines[i+1].split()[0]}\")\n",
    "\n",
    "            elif lines[i].startswith('VALOR TOTAL DA NOTA'):\n",
    "                ET.SubElement(root, 'valor_total').text = lines[i].split()[-1]\n",
    "                print(f\"{lines[i].split()[-1]}\")\n",
    "\n",
    "            elif lines[i].startswith('Código do Serviço'):\n",
    "                ET.SubElement(root, 'codigo').text = ' '.join(lines[i+1].split()[2:15])\n",
    "                print(f\"{lines[i+1].split()[2:15]}\")\n",
    "\n",
    "        # Cria um arquivo XML para o PDF atual\n",
    "        xml_filename = os.path.splitext(filename)[0] + '.xml'\n",
    "        ET.ElementTree(root).write(xml_filename)\n"
   ]
  }
 ],
 "metadata": {
  "kernelspec": {
   "display_name": "Python 3",
   "language": "python",
   "name": "python3"
  },
  "language_info": {
   "codemirror_mode": {
    "name": "ipython",
    "version": 3
   },
   "file_extension": ".py",
   "mimetype": "text/x-python",
   "name": "python",
   "nbconvert_exporter": "python",
   "pygments_lexer": "ipython3",
   "version": "3.8.8"
  }
 },
 "nbformat": 4,
 "nbformat_minor": 5
}
