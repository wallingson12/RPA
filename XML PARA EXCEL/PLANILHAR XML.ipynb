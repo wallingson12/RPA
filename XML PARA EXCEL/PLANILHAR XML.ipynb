{
 "cells": [
  {
   "attachments": {},
   "cell_type": "markdown",
   "id": "46eebd67",
   "metadata": {},
   "source": [
    "# PLANILHANDO LOOPING"
   ]
  },
  {
   "cell_type": "code",
   "execution_count": null,
   "id": "fa693077",
   "metadata": {},
   "outputs": [],
   "source": [
    "import os\n",
    "import xmltodict\n",
    "import pandas as pd\n",
    "from datetime import datetime\n",
    "\n",
    "# Diretório onde os arquivos XML estão armazenados\n",
    "diretorio_xml = r\"C:\\Users\\wallingson.silva\\Downloads\\NFS_\"\n",
    "\n",
    "# Loop pelos arquivos XML no diretório\n",
    "for nome_arquivo in os.listdir(diretorio_xml):\n",
    "    \n",
    "    # Verifica se o arquivo é um XML\n",
    "    if nome_arquivo.endswith('.xml'):\n",
    "        \n",
    "        # Lê o arquivo XML e transforma em um dicionário\n",
    "        with open('NFS_993_23813011000196', 'r') as xml_file:\n",
    "            xml_dict = xmltodict.parse(xml_file.read())\n",
    "\n",
    "            # Extrai as informações do dicionário\n",
    "            data_emissao = xml_dict['ConsultarNfseResposta']['ListaNfse']['CompNfse']['Nfse']['InfNfse']['DataEmissao']\n",
    "            data_formatada = datetime.strptime(data_emissao, '%Y-%m-%dT%H:%M:%S').strftime('%d/%m/%Y')\n",
    "\n",
    "            codigo_verificacao = xml_dict['ConsultarNfseResposta']['ListaNfse']['CompNfse']['Nfse']['InfNfse']['CodigoVerificacao']\n",
    "            numero_nfse = xml_dict['ConsultarNfseResposta']['ListaNfse']['CompNfse']['Nfse']['InfNfse']['Numero']\n",
    "            razao_social_tomador = xml_dict['ConsultarNfseResposta']['ListaNfse']['CompNfse']['Nfse']['InfNfse']['TomadorServico']['RazaoSocial']\n",
    "            cpf_cnpj_tomador = xml_dict['ConsultarNfseResposta']['ListaNfse']['CompNfse']['Nfse']['InfNfse']['TomadorServico']['IdentificacaoTomador']['CpfCnpj']['Cnpj']\n",
    "            codigo_municipio_tomador = xml_dict['ConsultarNfseResposta']['ListaNfse']['CompNfse']['Nfse']['InfNfse']['TomadorServico']['Endereco']['CodigoMunicipio']\n",
    "            razao_social_prestador = xml_dict['ConsultarNfseResposta']['ListaNfse']['CompNfse']['Nfse']['InfNfse']['PrestadorServico']['RazaoSocial']\n",
    "            optante_simples_nacional = xml_dict['ConsultarNfseResposta']['ListaNfse']['CompNfse']['Nfse']['InfNfse']['OptanteSimplesNacional']\n",
    "            cpf_cnpj_prestador = xml_dict['ConsultarNfseResposta']['ListaNfse']['CompNfse']['Nfse']['InfNfse']['PrestadorServico']['IdentificacaoPrestador']['Cnpj']\n",
    "            codigo_municipio_prestador = xml_dict['ConsultarNfseResposta']['ListaNfse']['CompNfse']['Nfse']['InfNfse']['PrestadorServico']['Endereco']['CodigoMunicipio']\n",
    "            inscricao_municipal_prestador = xml_dict['ConsultarNfseResposta']['ListaNfse']['CompNfse']['Nfse']['InfNfse']['PrestadorServico']['IdentificacaoPrestador']['InscricaoMunicipal']\n",
    "            codigo_tributacao = xml_dict['ConsultarNfseResposta']['ListaNfse']['CompNfse']['Nfse']['InfNfse']['Servico']['CodigoTributacaoMunicipio']\n",
    "            descricao_codigo_tributacao = xml_dict['ConsultarNfseResposta']['ListaNfse']['CompNfse']['Nfse']['InfNfse']['Servico']['Discriminacao']\n",
    "            valor_servicos = xml_dict['ConsultarNfseResposta']['ListaNfse']['CompNfse']['Nfse']['InfNfse']['Servico']['Valores']['ValorServicos']\n",
    "            valor_iss = xml_dict['ConsultarNfseResposta']['ListaNfse']['CompNfse']['Nfse']['InfNfse']['Servico']['Valores']['ValorIss']\n",
    "            valor_ir = xml_dict['ConsultarNfseResposta']['ListaNfse']['CompNfse']['Nfse']['InfNfse']['Servico']['Valores']['ValorIr']\n",
    "            valor_csll = xml_dict['ConsultarNfseResposta']['ListaNfse']['CompNfse']['Nfse']['InfNfse']['Servico']['Valores']['ValorCsll']\n",
    "            valor_iss_retido = xml_dict['ConsultarNfseResposta']['ListaNfse']['CompNfse']['Nfse']['InfNfse']['Servico']['Valores']['IssRetido']\n",
    "            aliquota = xml_dict['ConsultarNfseResposta']['ListaNfse']['CompNfse']['Nfse']['InfNfse']['Servico']['Valores']['Aliquota']\n",
    "            valor_liquido_nfse = xml_dict['ConsultarNfseResposta']['ListaNfse']['CompNfse']['Nfse']['InfNfse']['Servico']['Valores']['ValorLiquidoNfse']\n",
    "\n",
    "            # Cria um DataFrame com as informações extraídas\n",
    "            df = pd.DataFrame({\n",
    "                'Nome do Tomador': [nome_tomador],\n",
    "                'CNPJ do Tomador': [cnpj_tomador],\n",
    "                'Número da Nota': [numero],\n",
    "                'Data de Emissão': [data_emissao],\n",
    "                'Valor Total': [valor_total],\n",
    "                'Código do Serviço': [codigo]\n",
    "            })\n",
    "\n",
    "# Salva o DataFrame em um arquivo XLSX\n",
    "df.to_excel('proc erro.xlsx', index=False)"
   ]
  }
 ],
 "metadata": {
  "kernelspec": {
   "display_name": "Python 3",
   "language": "python",
   "name": "python3"
  },
  "language_info": {
   "codemirror_mode": {
    "name": "ipython",
    "version": 3
   },
   "file_extension": ".py",
   "mimetype": "text/x-python",
   "name": "python",
   "nbconvert_exporter": "python",
   "pygments_lexer": "ipython3",
   "version": "3.8.8"
  }
 },
 "nbformat": 4,
 "nbformat_minor": 5
}
