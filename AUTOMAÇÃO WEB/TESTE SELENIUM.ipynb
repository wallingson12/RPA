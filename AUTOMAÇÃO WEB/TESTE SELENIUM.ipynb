{
 "cells": [
  {
   "cell_type": "code",
   "execution_count": 11,
   "id": "21101a45",
   "metadata": {},
   "outputs": [],
   "source": [
    "import pyautogui\n",
    "import pandas as pd \n",
    "from selenium import webdriver\n",
    "from selenium.webdriver.common.by import By\n",
    "from selenium.webdriver.support.ui import WebDriverWait\n",
    "from selenium.webdriver.support import expected_conditions as EC\n",
    "\n",
    "df = pd.read_excel(\"tabela.xlsx\")\n",
    "A = df['A']\n",
    "B = df['B']\n",
    "\n",
    "pyautogui.PAUSE = 1\n",
    "\n",
    "navegador = webdriver.Chrome()\n",
    "navegador.get(\"https://www.formula1.com/\")\n",
    "\n",
    "elemento = WebDriverWait(navegador,15).until(EC.presence_of_element_located((By.XPATH,'//*[@id=\"truste-consent-button\"]')))\n",
    "\n",
    "for i, empresa in enumerate(df[\"A\"]):\n",
    "        A = df1.loc[i, \"A\"]\n",
    "        B = df1.loc[i, 'B']\n",
    "        \n",
    "        navegador.find_element_by_xpath('//*[@id=\"truste-consent-button\"]').click()\n",
    "        \n",
    "        navegador.find_element_by_xpath('//*[@id=\"truste-consent-button\"]').send_keys(B)"
   ]
  }
 ],
 "metadata": {
  "kernelspec": {
   "display_name": "Python 3",
   "language": "python",
   "name": "python3"
  },
  "language_info": {
   "codemirror_mode": {
    "name": "ipython",
    "version": 3
   },
   "file_extension": ".py",
   "mimetype": "text/x-python",
   "name": "python",
   "nbconvert_exporter": "python",
   "pygments_lexer": "ipython3",
   "version": "3.8.8"
  }
 },
 "nbformat": 4,
 "nbformat_minor": 5
}
