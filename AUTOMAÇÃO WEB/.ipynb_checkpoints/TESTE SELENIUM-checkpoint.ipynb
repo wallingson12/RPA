{
 "cells": [
  {
   "cell_type": "code",
   "execution_count": null,
   "id": "21101a45",
   "metadata": {},
   "outputs": [],
   "source": [
    "from selenium import webdriver \n",
    "from selenium.webdriver.common.by import By\n",
    "from selenium.webdriver.support.ui import WebDriverWait\n",
    "from selenium.webdriver.support import expected_conditions as EC\n",
    "\n",
    "senha = (\"Lisagawski2$\")\n",
    "\n",
    "#LOGANDO\n",
    "navegador = webdriver.Chrome()\n",
    "navegador.get(\"https://mcs001.mxmwebmanager.com.br/Default.aspx?grupo=MCS002PRD&sas=1\")\n",
    "pyautogui.sleep(3)\n",
    "x = navegador.find_element_by_xpath('//*[@id=\"ext-gen182\"]')\n",
    "x.click()\n",
    "y = navegador.find_element_by_xpath('//*[@id=\"txfUsuario\"]').send_keys(\"MCS.WALLINGSON\")\n",
    "y = navegador.find_element_by_xpath('//*[@id=\"txfUsuario\"]').click\n",
    "\n",
    "#esperar \n",
    "elemento = WebDriverWait(navegador, 10).until(EC.presence_of_element_located((By.XPATH,'//*[@id=\"ctl00_cphCorpo_btnAdicionarNovo\"]')))\n",
    "email = navegador.find_element_by_xpath('//*[@id=\"ctl00_cphCorpo_btnAdicionarNovo\"]')\n",
    "email.click()"
   ]
  }
 ],
 "metadata": {
  "kernelspec": {
   "display_name": "Python 3",
   "language": "python",
   "name": "python3"
  },
  "language_info": {
   "codemirror_mode": {
    "name": "ipython",
    "version": 3
   },
   "file_extension": ".py",
   "mimetype": "text/x-python",
   "name": "python",
   "nbconvert_exporter": "python",
   "pygments_lexer": "ipython3",
   "version": "3.8.8"
  }
 },
 "nbformat": 4,
 "nbformat_minor": 5
}
