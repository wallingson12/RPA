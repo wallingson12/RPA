{
 "cells": [
  {
   "attachments": {},
   "cell_type": "markdown",
   "id": "0fbef3f6",
   "metadata": {},
   "source": [
    "# PLANILHA BASE"
   ]
  },
  {
   "cell_type": "code",
   "execution_count": null,
   "id": "c902a03f",
   "metadata": {},
   "outputs": [],
   "source": [
    "from pathlib import Path\n",
    "import shutil\n",
    "import pandas as pd\n",
    "\n",
    "df = pd.read_excel('PLANILHA.xlsx')\n",
    "display(df)"
   ]
  },
  {
   "attachments": {},
   "cell_type": "markdown",
   "id": "06873396",
   "metadata": {},
   "source": [
    "# CRIAR PASTAS NA REDE"
   ]
  },
  {
   "cell_type": "code",
   "execution_count": null,
   "id": "ae15bab0",
   "metadata": {},
   "outputs": [],
   "source": [
    "Path(r'diretório').mkdir()\n",
    "for x in df['COLUNA']:\n",
    "    Path(r'diretório/{}'.format(x)).mkdir()"
   ]
  },
  {
   "attachments": {},
   "cell_type": "markdown",
   "id": "077f59b8",
   "metadata": {},
   "source": [
    "# MOVER ARQUIVO PARA PASTA"
   ]
  },
  {
   "cell_type": "code",
   "execution_count": null,
   "id": "f9a04dc5",
   "metadata": {},
   "outputs": [],
   "source": [
    "caminho =  Path(r'diretório')\n",
    "arquivos = caminho.iterdir()\n",
    "\n",
    "for arquivo in arquivos:\n",
    "    nome_arquivo = arquivo.name\n",
    "    if nome_arquivo[-4:]=='.txt':\n",
    "        pasta = nome_arquivo[-18:-4]\n",
    "        destino = caminho / Path('{}/{}'.format(pasta,nome_arquivo)) \n",
    "        shutil.move(arquivo, destino)\n",
    "        print(empresa)"
   ]
  }
 ],
 "metadata": {
  "kernelspec": {
   "display_name": "Python 3",
   "language": "python",
   "name": "python3"
  },
  "language_info": {
   "codemirror_mode": {
    "name": "ipython",
    "version": 3
   },
   "file_extension": ".py",
   "mimetype": "text/x-python",
   "name": "python",
   "nbconvert_exporter": "python",
   "pygments_lexer": "ipython3",
   "version": "3.8.8"
  }
 },
 "nbformat": 4,
 "nbformat_minor": 5
}
