{
 "cells": [
  {
   "cell_type": "markdown",
   "id": "0fbef3f6",
   "metadata": {},
   "source": [
    "# PLANILHA BASE"
   ]
  },
  {
   "cell_type": "code",
   "execution_count": 19,
   "id": "c902a03f",
   "metadata": {},
   "outputs": [
    {
     "data": {
      "text/html": [
       "<div>\n",
       "<style scoped>\n",
       "    .dataframe tbody tr th:only-of-type {\n",
       "        vertical-align: middle;\n",
       "    }\n",
       "\n",
       "    .dataframe tbody tr th {\n",
       "        vertical-align: top;\n",
       "    }\n",
       "\n",
       "    .dataframe thead th {\n",
       "        text-align: right;\n",
       "    }\n",
       "</style>\n",
       "<table border=\"1\" class=\"dataframe\">\n",
       "  <thead>\n",
       "    <tr style=\"text-align: right;\">\n",
       "      <th></th>\n",
       "      <th>EFD MÉDICOS</th>\n",
       "    </tr>\n",
       "  </thead>\n",
       "  <tbody>\n",
       "    <tr>\n",
       "      <th>0</th>\n",
       "      <td>ABC</td>\n",
       "    </tr>\n",
       "    <tr>\n",
       "      <th>1</th>\n",
       "      <td>ABP</td>\n",
       "    </tr>\n",
       "    <tr>\n",
       "      <th>2</th>\n",
       "      <td>ACEL</td>\n",
       "    </tr>\n",
       "    <tr>\n",
       "      <th>3</th>\n",
       "      <td>AG PED</td>\n",
       "    </tr>\n",
       "    <tr>\n",
       "      <th>4</th>\n",
       "      <td>AGA</td>\n",
       "    </tr>\n",
       "    <tr>\n",
       "      <th>...</th>\n",
       "      <td>...</td>\n",
       "    </tr>\n",
       "    <tr>\n",
       "      <th>106</th>\n",
       "      <td>VILA VAL</td>\n",
       "    </tr>\n",
       "    <tr>\n",
       "      <th>107</th>\n",
       "      <td>VITA</td>\n",
       "    </tr>\n",
       "    <tr>\n",
       "      <th>108</th>\n",
       "      <td>VRM</td>\n",
       "    </tr>\n",
       "    <tr>\n",
       "      <th>109</th>\n",
       "      <td>WESTPED</td>\n",
       "    </tr>\n",
       "    <tr>\n",
       "      <th>110</th>\n",
       "      <td>WP</td>\n",
       "    </tr>\n",
       "  </tbody>\n",
       "</table>\n",
       "<p>111 rows × 1 columns</p>\n",
       "</div>"
      ],
      "text/plain": [
       "    EFD MÉDICOS\n",
       "0           ABC\n",
       "1           ABP\n",
       "2          ACEL\n",
       "3        AG PED\n",
       "4           AGA\n",
       "..          ...\n",
       "106    VILA VAL\n",
       "107        VITA\n",
       "108         VRM\n",
       "109     WESTPED\n",
       "110          WP\n",
       "\n",
       "[111 rows x 1 columns]"
      ]
     },
     "metadata": {},
     "output_type": "display_data"
    }
   ],
   "source": [
    "from pathlib import Path\n",
    "import shutil\n",
    "import pandas as pd\n",
    "\n",
    "df = pd.read_excel('EFD MÉDICOS.xlsx')\n",
    "display(df)"
   ]
  },
  {
   "cell_type": "markdown",
   "id": "06873396",
   "metadata": {},
   "source": [
    "# CRIAR PASTAS NA REDE"
   ]
  },
  {
   "cell_type": "code",
   "execution_count": null,
   "id": "ae15bab0",
   "metadata": {},
   "outputs": [],
   "source": [
    "Path(r'F:\\CentralEFDContribuiçõesLucroPresumido\\Pediatria (Médicos) - ok\\2022\\TESTE').mkdir()\n",
    "for empresa in df['EFD MÉDICOS']:\n",
    "    Path(r'F:\\CentralEFDContribuiçõesLucroPresumido\\Pediatria (Médicos) - ok\\2022\\TESTE/{}'.format(empresa)).mkdir()"
   ]
  },
  {
   "cell_type": "markdown",
   "id": "077f59b8",
   "metadata": {},
   "source": [
    "# MOVER ARQUIVO PARA PASTA"
   ]
  },
  {
   "cell_type": "code",
   "execution_count": 50,
   "id": "f9a04dc5",
   "metadata": {},
   "outputs": [
    {
     "name": "stdout",
     "output_type": "stream",
     "text": [
      "ABC_EFD_0322\n",
      "ABP_EFD_0322\n"
     ]
    }
   ],
   "source": [
    "caminho =  Path(r'F:\\CentralEFDContribuiçõesLucroPresumido\\Pediatria (Médicos) - ok\\2022\\TESTE/')\n",
    "arquivos = caminho.iterdir()\n",
    "\n",
    "for arquivo in arquivos:\n",
    "    nome_arquivo = arquivo.name\n",
    "    if nome_arquivo[-4:]=='.txt':\n",
    "        empresa = nome_arquivo[-18:-4]\n",
    "        destino = caminho / Path('{}/{}'.format(empresa,nome_arquivo)) \n",
    "        shutil.move(arquivo, destino)\n",
    "        print(empresa)"
   ]
  }
 ],
 "metadata": {
  "kernelspec": {
   "display_name": "Python 3",
   "language": "python",
   "name": "python3"
  },
  "language_info": {
   "codemirror_mode": {
    "name": "ipython",
    "version": 3
   },
   "file_extension": ".py",
   "mimetype": "text/x-python",
   "name": "python",
   "nbconvert_exporter": "python",
   "pygments_lexer": "ipython3",
   "version": "3.8.8"
  }
 },
 "nbformat": 4,
 "nbformat_minor": 5
}
